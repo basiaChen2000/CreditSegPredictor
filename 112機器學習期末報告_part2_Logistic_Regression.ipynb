{
  "nbformat": 4,
  "nbformat_minor": 0,
  "metadata": {
    "colab": {
      "provenance": []
    },
    "kernelspec": {
      "name": "python3",
      "display_name": "Python 3"
    },
    "language_info": {
      "name": "python"
    }
  },
  "cells": [
    {
      "cell_type": "code",
      "execution_count": 1,
      "metadata": {
        "id": "4ARuZiQ32ypO"
      },
      "outputs": [],
      "source": [
        "# 112機器學習期末報告_part2_Logistic Regression\n",
        "# 2023/12/15\n",
        "# 7111029062 陳思蓓"
      ]
    },
    {
      "cell_type": "markdown",
      "source": [
        "### 模型1 - Logistic Regression\n",
        "- 讀取檔案 processed_data.csv"
      ],
      "metadata": {
        "id": "JeOMwpIY37XC"
      }
    },
    {
      "cell_type": "code",
      "source": [
        "import pandas as pd"
      ],
      "metadata": {
        "id": "y-AZi4GU4ENY"
      },
      "execution_count": 2,
      "outputs": []
    },
    {
      "cell_type": "code",
      "source": [
        "data = pd.read_csv('processed_data.csv', delimiter=\",\", header='infer')\n",
        "data.info()"
      ],
      "metadata": {
        "colab": {
          "base_uri": "https://localhost:8080/"
        },
        "id": "yDtmaLf_3rP7",
        "outputId": "e43cf814-0635-4f29-c2fb-657cd01c94b8"
      },
      "execution_count": 3,
      "outputs": [
        {
          "output_type": "stream",
          "name": "stdout",
          "text": [
            "<class 'pandas.core.frame.DataFrame'>\n",
            "RangeIndex: 10127 entries, 0 to 10126\n",
            "Data columns (total 20 columns):\n",
            " #   Column                    Non-Null Count  Dtype  \n",
            "---  ------                    --------------  -----  \n",
            " 0   Attrition_Flag            10127 non-null  int64  \n",
            " 1   Customer_Age              10127 non-null  float64\n",
            " 2   Gender                    10127 non-null  int64  \n",
            " 3   Dependent_count           10127 non-null  float64\n",
            " 4   Education_Level           10127 non-null  int64  \n",
            " 5   Marital_Status            10127 non-null  int64  \n",
            " 6   Income_Category           10127 non-null  int64  \n",
            " 7   Card_Category             10127 non-null  int64  \n",
            " 8   Months_on_book            10127 non-null  float64\n",
            " 9   Total_Relationship_Count  10127 non-null  float64\n",
            " 10  Months_Inactive_12_mon    10127 non-null  float64\n",
            " 11  Contacts_Count_12_mon     10127 non-null  float64\n",
            " 12  Credit_Limit              10127 non-null  float64\n",
            " 13  Total_Revolving_Bal       10127 non-null  float64\n",
            " 14  Avg_Open_To_Buy           10127 non-null  float64\n",
            " 15  Total_Amt_Chng_Q4_Q1      10127 non-null  float64\n",
            " 16  Total_Trans_Amt           10127 non-null  float64\n",
            " 17  Total_Trans_Ct            10127 non-null  float64\n",
            " 18  Total_Ct_Chng_Q4_Q1       10127 non-null  float64\n",
            " 19  Avg_Utilization_Ratio     10127 non-null  float64\n",
            "dtypes: float64(14), int64(6)\n",
            "memory usage: 1.5 MB\n"
          ]
        }
      ]
    },
    {
      "cell_type": "code",
      "source": [
        "from sklearn.model_selection import train_test_split\n",
        "from sklearn.metrics import accuracy_score, recall_score, precision_score, f1_score\n",
        "\n",
        "# 特徵和標籤\n",
        "X = data.drop('Attrition_Flag', axis=1)\n",
        "y = data['Attrition_Flag']\n",
        "\n",
        "# 分割資料集\n",
        "X_train, X_test, y_train, y_test = train_test_split(X, y, test_size=0.2, random_state=42)"
      ],
      "metadata": {
        "id": "0zLlIqWy4JQ8"
      },
      "execution_count": 4,
      "outputs": []
    },
    {
      "cell_type": "code",
      "source": [
        "from sklearn.linear_model import LogisticRegression\n",
        "# 創建邏輯回歸模型\n",
        "logreg_model = LogisticRegression(max_iter=1000)\n",
        "# 訓練模型\n",
        "logreg_model.fit(X_train, y_train)\n",
        "# 在測試集上進行預測\n",
        "y_pred = logreg_model.predict(X_test)\n",
        "# 評估模型性能\n",
        "accuracy = accuracy_score(y_test, y_pred)\n",
        "precision = precision_score(y_test, y_pred)\n",
        "recall = recall_score(y_test, y_pred)\n",
        "f1 = f1_score(y_test, y_pred)\n",
        "# 印出評估結果\n",
        "print(f'Accuracy: {accuracy:.4f}')\n",
        "print(f'Precision: {precision:.4f}')\n",
        "print(f'Recall: {recall:.4f}')\n",
        "print(f'F1 Score: {f1:.4f}')"
      ],
      "metadata": {
        "colab": {
          "base_uri": "https://localhost:8080/"
        },
        "id": "aa4NNDyT4RdW",
        "outputId": "a890c720-7344-4513-f716-0ebb4571ef11"
      },
      "execution_count": 5,
      "outputs": [
        {
          "output_type": "stream",
          "name": "stdout",
          "text": [
            "Accuracy: 0.8949\n",
            "Precision: 0.7794\n",
            "Recall: 0.4862\n",
            "F1 Score: 0.5989\n"
          ]
        }
      ]
    },
    {
      "cell_type": "markdown",
      "source": [
        "混淆矩陣\n",
        "\n",
        "- [[True Negative (TN), False Positive (FP)],\n",
        "- [False Negative (FN), True Positive (TP)]]"
      ],
      "metadata": {
        "id": "_CL_zmIX7KTE"
      }
    },
    {
      "cell_type": "code",
      "source": [
        "from sklearn.metrics import confusion_matrix"
      ],
      "metadata": {
        "id": "UeVnQYjL6bH3"
      },
      "execution_count": 6,
      "outputs": []
    },
    {
      "cell_type": "code",
      "source": [
        "conf_matrix = confusion_matrix(y_test, y_pred)\n",
        "\n",
        "# 顯示調整後的混淆矩陣\n",
        "print('Confusion Matrix:')\n",
        "print(conf_matrix)"
      ],
      "metadata": {
        "colab": {
          "base_uri": "https://localhost:8080/"
        },
        "id": "yrEN3DhM7Cng",
        "outputId": "c237e658-9325-461e-e3ca-c53373c0cd4d"
      },
      "execution_count": 7,
      "outputs": [
        {
          "output_type": "stream",
          "name": "stdout",
          "text": [
            "Confusion Matrix:\n",
            "[[1654   45]\n",
            " [ 168  159]]\n"
          ]
        }
      ]
    },
    {
      "cell_type": "code",
      "source": [
        "print(f'True Positive: {conf_matrix[1, 1]}')\n",
        "print(f'False Positive: {conf_matrix[0, 1]}')\n",
        "print(f'False Negative: {conf_matrix[1, 0]}')\n",
        "print(f'True Negative: {conf_matrix[0, 0]}')"
      ],
      "metadata": {
        "colab": {
          "base_uri": "https://localhost:8080/"
        },
        "id": "CBvpKuSaxDcF",
        "outputId": "55e95dcf-4ad1-44a3-8f52-c52e4260b103"
      },
      "execution_count": 8,
      "outputs": [
        {
          "output_type": "stream",
          "name": "stdout",
          "text": [
            "True Positive: 159\n",
            "False Positive: 45\n",
            "False Negative: 168\n",
            "True Negative: 1654\n"
          ]
        }
      ]
    },
    {
      "cell_type": "markdown",
      "source": [
        "## 接下來\n",
        "- 112機器學習期末報告_part3_Bernoulli Naive Bayes\n",
        "- part 3 : https://colab.research.google.com/drive/10qsCAieQL3K3DCCCUike05G2tj0qMeH_#scrollTo=GKZ-6UFJzMk2"
      ],
      "metadata": {
        "id": "GKZ-6UFJzMk2"
      }
    }
  ]
}