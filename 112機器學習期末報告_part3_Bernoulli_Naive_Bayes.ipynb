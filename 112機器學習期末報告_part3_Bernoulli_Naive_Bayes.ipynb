{
  "nbformat": 4,
  "nbformat_minor": 0,
  "metadata": {
    "colab": {
      "provenance": []
    },
    "kernelspec": {
      "name": "python3",
      "display_name": "Python 3"
    },
    "language_info": {
      "name": "python"
    }
  },
  "cells": [
    {
      "cell_type": "code",
      "execution_count": 1,
      "metadata": {
        "id": "4ARuZiQ32ypO"
      },
      "outputs": [],
      "source": [
        "# 112機器學習期末報告_part3_Bernoulli Naive Bayes\n",
        "# 2023/12/15\n",
        "# 7111029062 陳思蓓"
      ]
    },
    {
      "cell_type": "markdown",
      "source": [
        "### 模型2 - Bernoulli Naive Bayes\n",
        "- 讀取檔案 processed_data.csv"
      ],
      "metadata": {
        "id": "JeOMwpIY37XC"
      }
    },
    {
      "cell_type": "code",
      "source": [
        "import pandas as pd"
      ],
      "metadata": {
        "id": "y-AZi4GU4ENY"
      },
      "execution_count": 2,
      "outputs": []
    },
    {
      "cell_type": "code",
      "source": [
        "data = pd.read_csv('processed_data.csv', delimiter=\",\", header='infer')\n",
        "data.info()"
      ],
      "metadata": {
        "colab": {
          "base_uri": "https://localhost:8080/"
        },
        "id": "yDtmaLf_3rP7",
        "outputId": "7655c035-ffdd-4f87-e636-fe409d06e546"
      },
      "execution_count": 3,
      "outputs": [
        {
          "output_type": "stream",
          "name": "stdout",
          "text": [
            "<class 'pandas.core.frame.DataFrame'>\n",
            "RangeIndex: 10127 entries, 0 to 10126\n",
            "Data columns (total 20 columns):\n",
            " #   Column                    Non-Null Count  Dtype  \n",
            "---  ------                    --------------  -----  \n",
            " 0   Attrition_Flag            10127 non-null  int64  \n",
            " 1   Customer_Age              10127 non-null  float64\n",
            " 2   Gender                    10127 non-null  int64  \n",
            " 3   Dependent_count           10127 non-null  float64\n",
            " 4   Education_Level           10127 non-null  int64  \n",
            " 5   Marital_Status            10127 non-null  int64  \n",
            " 6   Income_Category           10127 non-null  int64  \n",
            " 7   Card_Category             10127 non-null  int64  \n",
            " 8   Months_on_book            10127 non-null  float64\n",
            " 9   Total_Relationship_Count  10127 non-null  float64\n",
            " 10  Months_Inactive_12_mon    10127 non-null  float64\n",
            " 11  Contacts_Count_12_mon     10127 non-null  float64\n",
            " 12  Credit_Limit              10127 non-null  float64\n",
            " 13  Total_Revolving_Bal       10127 non-null  float64\n",
            " 14  Avg_Open_To_Buy           10127 non-null  float64\n",
            " 15  Total_Amt_Chng_Q4_Q1      10127 non-null  float64\n",
            " 16  Total_Trans_Amt           10127 non-null  float64\n",
            " 17  Total_Trans_Ct            10127 non-null  float64\n",
            " 18  Total_Ct_Chng_Q4_Q1       10127 non-null  float64\n",
            " 19  Avg_Utilization_Ratio     10127 non-null  float64\n",
            "dtypes: float64(14), int64(6)\n",
            "memory usage: 1.5 MB\n"
          ]
        }
      ]
    },
    {
      "cell_type": "code",
      "source": [
        "from sklearn.model_selection import train_test_split\n",
        "from sklearn.metrics import accuracy_score, recall_score, precision_score, f1_score\n",
        "\n",
        "# 特徵和標籤\n",
        "X = data.drop('Attrition_Flag', axis=1)\n",
        "y = data['Attrition_Flag']\n",
        "\n",
        "# 分割資料集\n",
        "X_train, X_test, y_train, y_test = train_test_split(X, y, test_size=0.2, random_state=42)"
      ],
      "metadata": {
        "id": "0zLlIqWy4JQ8"
      },
      "execution_count": 4,
      "outputs": []
    },
    {
      "cell_type": "code",
      "source": [
        "from sklearn.naive_bayes import BernoulliNB\n",
        "\n",
        "# 創建 Bernoulli Naive Bayes 模型\n",
        "bnb_model = BernoulliNB()\n",
        "# 訓練模型\n",
        "bnb_model.fit(X_train, y_train)\n",
        "# 在測試集上進行預測\n",
        "y_pred_bnb = bnb_model.predict(X_test)\n",
        "# 評估模型性能\n",
        "accuracy_bnb = accuracy_score(y_test, y_pred_bnb)\n",
        "precision_bnb = precision_score(y_test, y_pred_bnb)\n",
        "recall_bnb = recall_score(y_test, y_pred_bnb)\n",
        "f1_bnb = f1_score(y_test, y_pred_bnb)\n",
        "# 印出評估結果\n",
        "print('Bernoulli Naive Bayes Model Performance:')\n",
        "print(f'Accuracy: {accuracy_bnb:.4f}')\n",
        "print(f'Precision: {precision_bnb:.4f}')\n",
        "print(f'Recall: {recall_bnb:.4f}')\n",
        "print(f'F1 Score: {f1_bnb:.4f}')\n"
      ],
      "metadata": {
        "colab": {
          "base_uri": "https://localhost:8080/"
        },
        "id": "aa4NNDyT4RdW",
        "outputId": "79179ad9-254b-49a8-ee79-4667482ec553"
      },
      "execution_count": 5,
      "outputs": [
        {
          "output_type": "stream",
          "name": "stdout",
          "text": [
            "Bernoulli Naive Bayes Model Performance:\n",
            "Accuracy: 0.7828\n",
            "Precision: 0.3774\n",
            "Recall: 0.5321\n",
            "F1 Score: 0.4416\n"
          ]
        }
      ]
    },
    {
      "cell_type": "markdown",
      "source": [
        "混淆矩陣\n",
        "\n",
        "- [[True Negative (TN), False Positive (FP)],\n",
        "- [False Negative (FN), True Positive (TP)]]"
      ],
      "metadata": {
        "id": "_CL_zmIX7KTE"
      }
    },
    {
      "cell_type": "code",
      "source": [
        "from sklearn.metrics import confusion_matrix"
      ],
      "metadata": {
        "id": "UeVnQYjL6bH3"
      },
      "execution_count": 6,
      "outputs": []
    },
    {
      "cell_type": "code",
      "source": [
        "conf_matrix = confusion_matrix(y_test, y_pred_bnb)\n",
        "\n",
        "# 顯示調整後的混淆矩陣\n",
        "print('Confusion Matrix:')\n",
        "print(conf_matrix)"
      ],
      "metadata": {
        "colab": {
          "base_uri": "https://localhost:8080/"
        },
        "id": "yrEN3DhM7Cng",
        "outputId": "a2a844db-8dbb-47c6-e07d-e3a07302e6a7"
      },
      "execution_count": 7,
      "outputs": [
        {
          "output_type": "stream",
          "name": "stdout",
          "text": [
            "Confusion Matrix:\n",
            "[[1412  287]\n",
            " [ 153  174]]\n"
          ]
        }
      ]
    },
    {
      "cell_type": "code",
      "source": [
        "print(f'True Positive: {conf_matrix[1, 1]}')\n",
        "print(f'False Positive: {conf_matrix[0, 1]}')\n",
        "print(f'False Negative: {conf_matrix[1, 0]}')\n",
        "print(f'True Negative: {conf_matrix[0, 0]}')"
      ],
      "metadata": {
        "colab": {
          "base_uri": "https://localhost:8080/"
        },
        "id": "CBvpKuSaxDcF",
        "outputId": "900a174e-7a86-46b0-ff93-5ba9b391849f"
      },
      "execution_count": 8,
      "outputs": [
        {
          "output_type": "stream",
          "name": "stdout",
          "text": [
            "True Positive: 174\n",
            "False Positive: 287\n",
            "False Negative: 153\n",
            "True Negative: 1412\n"
          ]
        }
      ]
    },
    {
      "cell_type": "markdown",
      "source": [
        "## 接下來\n",
        "- 112機器學習期末報告_part4_Gaussian Naive Bayes\n",
        "- part 4 : https://colab.research.google.com/drive/1RneJrq6lHWHpoQalw5PqfRJQRATleMKP"
      ],
      "metadata": {
        "id": "GKZ-6UFJzMk2"
      }
    }
  ]
}