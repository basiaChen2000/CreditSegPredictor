{
  "nbformat": 4,
  "nbformat_minor": 0,
  "metadata": {
    "colab": {
      "provenance": []
    },
    "kernelspec": {
      "name": "python3",
      "display_name": "Python 3"
    },
    "language_info": {
      "name": "python"
    }
  },
  "cells": [
    {
      "cell_type": "code",
      "execution_count": 1,
      "metadata": {
        "id": "4ARuZiQ32ypO"
      },
      "outputs": [],
      "source": [
        "# 112機器學習期末報告_part5_SVM\n",
        "# 2023/12/15\n",
        "# 7111029062 陳思蓓"
      ]
    },
    {
      "cell_type": "markdown",
      "source": [
        "### 模型4 - SVM\n",
        "- 讀取檔案 processed_data.csv"
      ],
      "metadata": {
        "id": "JeOMwpIY37XC"
      }
    },
    {
      "cell_type": "code",
      "source": [
        "import pandas as pd"
      ],
      "metadata": {
        "id": "y-AZi4GU4ENY"
      },
      "execution_count": 2,
      "outputs": []
    },
    {
      "cell_type": "code",
      "source": [
        "data = pd.read_csv('processed_data.csv', delimiter=\",\", header='infer')\n",
        "data.info()"
      ],
      "metadata": {
        "colab": {
          "base_uri": "https://localhost:8080/"
        },
        "id": "yDtmaLf_3rP7",
        "outputId": "88b16a2d-5af9-40be-de78-aa0fb2bc2b6f"
      },
      "execution_count": 3,
      "outputs": [
        {
          "output_type": "stream",
          "name": "stdout",
          "text": [
            "<class 'pandas.core.frame.DataFrame'>\n",
            "RangeIndex: 10127 entries, 0 to 10126\n",
            "Data columns (total 20 columns):\n",
            " #   Column                    Non-Null Count  Dtype  \n",
            "---  ------                    --------------  -----  \n",
            " 0   Attrition_Flag            10127 non-null  int64  \n",
            " 1   Customer_Age              10127 non-null  float64\n",
            " 2   Gender                    10127 non-null  int64  \n",
            " 3   Dependent_count           10127 non-null  float64\n",
            " 4   Education_Level           10127 non-null  int64  \n",
            " 5   Marital_Status            10127 non-null  int64  \n",
            " 6   Income_Category           10127 non-null  int64  \n",
            " 7   Card_Category             10127 non-null  int64  \n",
            " 8   Months_on_book            10127 non-null  float64\n",
            " 9   Total_Relationship_Count  10127 non-null  float64\n",
            " 10  Months_Inactive_12_mon    10127 non-null  float64\n",
            " 11  Contacts_Count_12_mon     10127 non-null  float64\n",
            " 12  Credit_Limit              10127 non-null  float64\n",
            " 13  Total_Revolving_Bal       10127 non-null  float64\n",
            " 14  Avg_Open_To_Buy           10127 non-null  float64\n",
            " 15  Total_Amt_Chng_Q4_Q1      10127 non-null  float64\n",
            " 16  Total_Trans_Amt           10127 non-null  float64\n",
            " 17  Total_Trans_Ct            10127 non-null  float64\n",
            " 18  Total_Ct_Chng_Q4_Q1       10127 non-null  float64\n",
            " 19  Avg_Utilization_Ratio     10127 non-null  float64\n",
            "dtypes: float64(14), int64(6)\n",
            "memory usage: 1.5 MB\n"
          ]
        }
      ]
    },
    {
      "cell_type": "markdown",
      "source": [
        "混淆矩陣\n",
        "\n",
        "- [[True Negative (TN), False Positive (FP)],\n",
        "- [False Negative (FN), True Positive (TP)]]"
      ],
      "metadata": {
        "id": "_CL_zmIX7KTE"
      }
    },
    {
      "cell_type": "code",
      "source": [
        "from sklearn.metrics import confusion_matrix\n",
        "def confusion_matrix_fun(y_test, y_pred):\n",
        "    conf_matrix = confusion_matrix(y_test, y_pred)\n",
        "\n",
        "    # 顯示調整後的混淆矩陣\n",
        "    print('Confusion Matrix:')\n",
        "    print(conf_matrix)\n",
        "    print('-----------------------')\n",
        "    print(f'True Positive: {conf_matrix[1, 1]}')\n",
        "    print(f'False Positive: {conf_matrix[0, 1]}')\n",
        "    print(f'False Negative: {conf_matrix[1, 0]}')\n",
        "    print(f'True Negative: {conf_matrix[0, 0]}')"
      ],
      "metadata": {
        "id": "yrEN3DhM7Cng"
      },
      "execution_count": 4,
      "outputs": []
    },
    {
      "cell_type": "code",
      "source": [
        "from sklearn.model_selection import train_test_split\n",
        "from sklearn.metrics import accuracy_score, recall_score, precision_score, f1_score\n",
        "\n",
        "# 特徵和標籤\n",
        "X = data.drop('Attrition_Flag', axis=1)\n",
        "y = data['Attrition_Flag']\n",
        "\n",
        "# 分割資料集\n",
        "X_train, X_test, y_train, y_test = train_test_split(X, y, test_size=0.2, random_state=42)"
      ],
      "metadata": {
        "id": "0zLlIqWy4JQ8"
      },
      "execution_count": 5,
      "outputs": []
    },
    {
      "cell_type": "code",
      "source": [
        "from sklearn.svm import SVC\n",
        "def svm_fun(kernel,c):\n",
        "    # 創建 SVM 模型\n",
        "    svm_model = SVC(kernel=kernel, C=c)\n",
        "\n",
        "    # 訓練模型\n",
        "    svm_model.fit(X_train, y_train)\n",
        "\n",
        "    # 在測試集上進行預測\n",
        "    y_pred_svm = svm_model.predict(X_test)\n",
        "\n",
        "    # 評估模型性能\n",
        "    accuracy_svm = accuracy_score(y_test, y_pred_svm)\n",
        "    precision_svm = precision_score(y_test, y_pred_svm)\n",
        "    recall_svm = recall_score(y_test, y_pred_svm)\n",
        "    f1_svm = f1_score(y_test, y_pred_svm)\n",
        "\n",
        "    # 印出評估結果\n",
        "    print('SVM Model Performance:')\n",
        "    print(f'Accuracy: {accuracy_svm:.4f}')\n",
        "    print(f'Precision: {precision_svm:.4f}')\n",
        "    print(f'Recall: {recall_svm:.4f}')\n",
        "    print(f'F1 Score: {f1_svm:.4f}')\n",
        "    print('-----------------------')\n",
        "    confusion_matrix_fun(y_test, y_pred_svm)"
      ],
      "metadata": {
        "id": "aa4NNDyT4RdW"
      },
      "execution_count": 6,
      "outputs": []
    },
    {
      "cell_type": "code",
      "source": [
        "test = 0"
      ],
      "metadata": {
        "id": "qFll_cbZKf1i"
      },
      "execution_count": 7,
      "outputs": []
    },
    {
      "cell_type": "code",
      "source": [
        "print(f'測試 {test + 1}')\n",
        "test += 1\n",
        "svm_kernel = 'linear'\n",
        "svm_c = 1\n",
        "print(f'kernel = {svm_kernel}, C = {svm_c}')\n",
        "svm_fun(svm_kernel, svm_c)"
      ],
      "metadata": {
        "colab": {
          "base_uri": "https://localhost:8080/"
        },
        "id": "Ee8nxGKCK8Y7",
        "outputId": "88fa6fee-b455-4503-f32f-3ebaa41379e1"
      },
      "execution_count": 8,
      "outputs": [
        {
          "output_type": "stream",
          "name": "stdout",
          "text": [
            "測試 1\n",
            "kernel = linear, C = 1\n",
            "SVM Model Performance:\n",
            "Accuracy: 0.8949\n",
            "Precision: 0.7767\n",
            "Recall: 0.4893\n",
            "F1 Score: 0.6004\n",
            "-----------------------\n",
            "Confusion Matrix:\n",
            "[[1653   46]\n",
            " [ 167  160]]\n",
            "-----------------------\n",
            "True Positive: 160\n",
            "False Positive: 46\n",
            "False Negative: 167\n",
            "True Negative: 1653\n"
          ]
        }
      ]
    },
    {
      "cell_type": "code",
      "source": [
        "print(f'測試 {test + 1}')\n",
        "test += 1\n",
        "svm_kernel = 'rbf'\n",
        "svm_c = 1\n",
        "print(f'kernel = {svm_kernel}, C = {svm_c}')\n",
        "svm_fun(svm_kernel, svm_c)"
      ],
      "metadata": {
        "colab": {
          "base_uri": "https://localhost:8080/"
        },
        "id": "Qc_a46RVK9DU",
        "outputId": "9edbd272-9ed0-46a5-d9d1-5f1cfe697fb2"
      },
      "execution_count": 9,
      "outputs": [
        {
          "output_type": "stream",
          "name": "stdout",
          "text": [
            "測試 2\n",
            "kernel = rbf, C = 1\n",
            "SVM Model Performance:\n",
            "Accuracy: 0.8889\n",
            "Precision: 0.8750\n",
            "Recall: 0.3639\n",
            "F1 Score: 0.5140\n",
            "-----------------------\n",
            "Confusion Matrix:\n",
            "[[1682   17]\n",
            " [ 208  119]]\n",
            "-----------------------\n",
            "True Positive: 119\n",
            "False Positive: 17\n",
            "False Negative: 208\n",
            "True Negative: 1682\n"
          ]
        }
      ]
    },
    {
      "cell_type": "code",
      "source": [
        "print(f'測試 {test + 1}')\n",
        "test += 1\n",
        "svm_kernel = 'poly'\n",
        "svm_c = 1\n",
        "print(f'kernel = {svm_kernel}, C = {svm_c}')\n",
        "svm_fun(svm_kernel, svm_c)"
      ],
      "metadata": {
        "colab": {
          "base_uri": "https://localhost:8080/"
        },
        "id": "U9HaSymoK9do",
        "outputId": "19bcd670-c414-4cbd-dc5f-fc0ead06d13c"
      },
      "execution_count": 10,
      "outputs": [
        {
          "output_type": "stream",
          "name": "stdout",
          "text": [
            "測試 3\n",
            "kernel = poly, C = 1\n",
            "SVM Model Performance:\n",
            "Accuracy: 0.8766\n",
            "Precision: 0.8031\n",
            "Recall: 0.3119\n",
            "F1 Score: 0.4493\n",
            "-----------------------\n",
            "Confusion Matrix:\n",
            "[[1674   25]\n",
            " [ 225  102]]\n",
            "-----------------------\n",
            "True Positive: 102\n",
            "False Positive: 25\n",
            "False Negative: 225\n",
            "True Negative: 1674\n"
          ]
        }
      ]
    },
    {
      "cell_type": "code",
      "source": [
        "print(f'測試 {test + 1}')\n",
        "test += 1\n",
        "svm_kernel = 'sigmoid'\n",
        "svm_c = 1\n",
        "print(f'kernel = {svm_kernel}, C = {svm_c}')\n",
        "svm_fun(svm_kernel, svm_c)"
      ],
      "metadata": {
        "colab": {
          "base_uri": "https://localhost:8080/"
        },
        "id": "0eR_7pLnK-Du",
        "outputId": "01c1b663-a58c-4c1f-b01e-45f72fc05d91"
      },
      "execution_count": 11,
      "outputs": [
        {
          "output_type": "stream",
          "name": "stdout",
          "text": [
            "測試 4\n",
            "kernel = sigmoid, C = 1\n",
            "SVM Model Performance:\n",
            "Accuracy: 0.7458\n",
            "Precision: 0.2081\n",
            "Recall: 0.2049\n",
            "F1 Score: 0.2065\n",
            "-----------------------\n",
            "Confusion Matrix:\n",
            "[[1444  255]\n",
            " [ 260   67]]\n",
            "-----------------------\n",
            "True Positive: 67\n",
            "False Positive: 255\n",
            "False Negative: 260\n",
            "True Negative: 1444\n"
          ]
        }
      ]
    },
    {
      "cell_type": "code",
      "source": [
        "print(f'測試 {test + 1}')\n",
        "test += 1\n",
        "svm_kernel = 'linear'\n",
        "svm_c = 5\n",
        "print(f'kernel = {svm_kernel}, C = {svm_c}')\n",
        "svm_fun(svm_kernel, svm_c)"
      ],
      "metadata": {
        "colab": {
          "base_uri": "https://localhost:8080/"
        },
        "id": "ApWmtBNBK-r2",
        "outputId": "a12fe677-ca15-448c-d34d-ca66bc43a49c"
      },
      "execution_count": 12,
      "outputs": [
        {
          "output_type": "stream",
          "name": "stdout",
          "text": [
            "測試 5\n",
            "kernel = linear, C = 5\n",
            "SVM Model Performance:\n",
            "Accuracy: 0.8993\n",
            "Precision: 0.7834\n",
            "Recall: 0.5199\n",
            "F1 Score: 0.6250\n",
            "-----------------------\n",
            "Confusion Matrix:\n",
            "[[1652   47]\n",
            " [ 157  170]]\n",
            "-----------------------\n",
            "True Positive: 170\n",
            "False Positive: 47\n",
            "False Negative: 157\n",
            "True Negative: 1652\n"
          ]
        }
      ]
    },
    {
      "cell_type": "code",
      "source": [
        "print(f'測試 {test + 1}')\n",
        "test += 1\n",
        "svm_kernel = 'rbf'\n",
        "svm_c = 5\n",
        "print(f'kernel = {svm_kernel}, C = {svm_c}')\n",
        "svm_fun(svm_kernel, svm_c)"
      ],
      "metadata": {
        "colab": {
          "base_uri": "https://localhost:8080/"
        },
        "id": "jZAswSQJK_Fq",
        "outputId": "9fd27ff4-ff83-47de-9d5d-87ae084215f6"
      },
      "execution_count": 13,
      "outputs": [
        {
          "output_type": "stream",
          "name": "stdout",
          "text": [
            "測試 6\n",
            "kernel = rbf, C = 5\n",
            "SVM Model Performance:\n",
            "Accuracy: 0.9047\n",
            "Precision: 0.8350\n",
            "Recall: 0.5107\n",
            "F1 Score: 0.6338\n",
            "-----------------------\n",
            "Confusion Matrix:\n",
            "[[1666   33]\n",
            " [ 160  167]]\n",
            "-----------------------\n",
            "True Positive: 167\n",
            "False Positive: 33\n",
            "False Negative: 160\n",
            "True Negative: 1666\n"
          ]
        }
      ]
    },
    {
      "cell_type": "code",
      "source": [
        "print(f'測試 {test + 1}')\n",
        "test += 1\n",
        "svm_kernel = 'poly'\n",
        "svm_c = 5\n",
        "print(f'kernel = {svm_kernel}, C = {svm_c}')\n",
        "svm_fun(svm_kernel, svm_c)"
      ],
      "metadata": {
        "colab": {
          "base_uri": "https://localhost:8080/"
        },
        "id": "-GLoplPbK_6d",
        "outputId": "1fddc432-976e-4127-b0ee-5831f44725e3"
      },
      "execution_count": 14,
      "outputs": [
        {
          "output_type": "stream",
          "name": "stdout",
          "text": [
            "測試 7\n",
            "kernel = poly, C = 5\n",
            "SVM Model Performance:\n",
            "Accuracy: 0.8934\n",
            "Precision: 0.8136\n",
            "Recall: 0.4404\n",
            "F1 Score: 0.5714\n",
            "-----------------------\n",
            "Confusion Matrix:\n",
            "[[1666   33]\n",
            " [ 183  144]]\n",
            "-----------------------\n",
            "True Positive: 144\n",
            "False Positive: 33\n",
            "False Negative: 183\n",
            "True Negative: 1666\n"
          ]
        }
      ]
    },
    {
      "cell_type": "code",
      "source": [
        "print(f'測試 {test + 1}')\n",
        "test += 1\n",
        "svm_kernel = 'sigmoid'\n",
        "svm_c = 5\n",
        "print(f'kernel = {svm_kernel}, C = {svm_c}')\n",
        "svm_fun(svm_kernel, svm_c)"
      ],
      "metadata": {
        "colab": {
          "base_uri": "https://localhost:8080/"
        },
        "id": "l_btBPM9LWDs",
        "outputId": "795d3a72-6179-4b1a-a808-c48cb1eb273a"
      },
      "execution_count": 15,
      "outputs": [
        {
          "output_type": "stream",
          "name": "stdout",
          "text": [
            "測試 8\n",
            "kernel = sigmoid, C = 5\n",
            "SVM Model Performance:\n",
            "Accuracy: 0.7428\n",
            "Precision: 0.2061\n",
            "Recall: 0.2080\n",
            "F1 Score: 0.2070\n",
            "-----------------------\n",
            "Confusion Matrix:\n",
            "[[1437  262]\n",
            " [ 259   68]]\n",
            "-----------------------\n",
            "True Positive: 68\n",
            "False Positive: 262\n",
            "False Negative: 259\n",
            "True Negative: 1437\n"
          ]
        }
      ]
    },
    {
      "cell_type": "code",
      "source": [
        "print(f'測試 {test + 1}')\n",
        "test += 1\n",
        "svm_kernel = 'linear'\n",
        "svm_c = 10\n",
        "print(f'kernel = {svm_kernel}, C = {svm_c}')\n",
        "svm_fun(svm_kernel, svm_c)"
      ],
      "metadata": {
        "colab": {
          "base_uri": "https://localhost:8080/"
        },
        "id": "CBvpKuSaxDcF",
        "outputId": "371332de-8ae4-4a1f-f001-c97562af5066"
      },
      "execution_count": 16,
      "outputs": [
        {
          "output_type": "stream",
          "name": "stdout",
          "text": [
            "測試 9\n",
            "kernel = linear, C = 10\n",
            "SVM Model Performance:\n",
            "Accuracy: 0.8998\n",
            "Precision: 0.7844\n",
            "Recall: 0.5229\n",
            "F1 Score: 0.6275\n",
            "-----------------------\n",
            "Confusion Matrix:\n",
            "[[1652   47]\n",
            " [ 156  171]]\n",
            "-----------------------\n",
            "True Positive: 171\n",
            "False Positive: 47\n",
            "False Negative: 156\n",
            "True Negative: 1652\n"
          ]
        }
      ]
    },
    {
      "cell_type": "code",
      "source": [
        "print(f'測試 {test + 1}')\n",
        "test += 1\n",
        "svm_kernel = 'rbf'\n",
        "svm_c = 10\n",
        "print(f'kernel = {svm_kernel}, C = {svm_c}')\n",
        "svm_fun(svm_kernel, svm_c)"
      ],
      "metadata": {
        "colab": {
          "base_uri": "https://localhost:8080/"
        },
        "id": "_JCnrGDUMYiT",
        "outputId": "d757d2b1-3c77-4967-af28-4afdd90c3558"
      },
      "execution_count": 17,
      "outputs": [
        {
          "output_type": "stream",
          "name": "stdout",
          "text": [
            "測試 10\n",
            "kernel = rbf, C = 10\n",
            "SVM Model Performance:\n",
            "Accuracy: 0.9121\n",
            "Precision: 0.8402\n",
            "Recall: 0.5627\n",
            "F1 Score: 0.6740\n",
            "-----------------------\n",
            "Confusion Matrix:\n",
            "[[1664   35]\n",
            " [ 143  184]]\n",
            "-----------------------\n",
            "True Positive: 184\n",
            "False Positive: 35\n",
            "False Negative: 143\n",
            "True Negative: 1664\n"
          ]
        }
      ]
    },
    {
      "cell_type": "code",
      "source": [
        "print(f'測試 {test + 1}')\n",
        "test += 1\n",
        "svm_kernel = 'poly'\n",
        "svm_c = 10\n",
        "print(f'kernel = {svm_kernel}, C = {svm_c}')\n",
        "svm_fun(svm_kernel, svm_c)"
      ],
      "metadata": {
        "colab": {
          "base_uri": "https://localhost:8080/"
        },
        "id": "vFDMz7pBMg0f",
        "outputId": "ce2e468f-830b-4b6d-ac4c-2ab5f2d3cb92"
      },
      "execution_count": 18,
      "outputs": [
        {
          "output_type": "stream",
          "name": "stdout",
          "text": [
            "測試 11\n",
            "kernel = poly, C = 10\n",
            "SVM Model Performance:\n",
            "Accuracy: 0.9003\n",
            "Precision: 0.8173\n",
            "Recall: 0.4924\n",
            "F1 Score: 0.6145\n",
            "-----------------------\n",
            "Confusion Matrix:\n",
            "[[1663   36]\n",
            " [ 166  161]]\n",
            "-----------------------\n",
            "True Positive: 161\n",
            "False Positive: 36\n",
            "False Negative: 166\n",
            "True Negative: 1663\n"
          ]
        }
      ]
    },
    {
      "cell_type": "code",
      "source": [
        "print(f'測試 {test + 1}')\n",
        "test += 1\n",
        "svm_kernel = 'sigmoid'\n",
        "svm_c = 10\n",
        "print(f'kernel = {svm_kernel}, C = {svm_c}')\n",
        "svm_fun(svm_kernel, svm_c)"
      ],
      "metadata": {
        "colab": {
          "base_uri": "https://localhost:8080/"
        },
        "id": "O5t3Y3NeMgR8",
        "outputId": "c2af1c60-9986-4954-86c1-96593ee0107d"
      },
      "execution_count": 19,
      "outputs": [
        {
          "output_type": "stream",
          "name": "stdout",
          "text": [
            "測試 12\n",
            "kernel = sigmoid, C = 10\n",
            "SVM Model Performance:\n",
            "Accuracy: 0.7399\n",
            "Precision: 0.2006\n",
            "Recall: 0.2049\n",
            "F1 Score: 0.2027\n",
            "-----------------------\n",
            "Confusion Matrix:\n",
            "[[1432  267]\n",
            " [ 260   67]]\n",
            "-----------------------\n",
            "True Positive: 67\n",
            "False Positive: 267\n",
            "False Negative: 260\n",
            "True Negative: 1432\n"
          ]
        }
      ]
    },
    {
      "cell_type": "code",
      "source": [
        "print(f'測試 {test + 1}')\n",
        "test += 1\n",
        "svm_kernel = 'linear'\n",
        "svm_c = 100\n",
        "print(f'kernel = {svm_kernel}, C = {svm_c}')\n",
        "svm_fun(svm_kernel, svm_c)"
      ],
      "metadata": {
        "colab": {
          "base_uri": "https://localhost:8080/"
        },
        "outputId": "cdd68f96-c1f5-4c98-aae2-3be95c619061",
        "id": "o6iC96FrM0Fc"
      },
      "execution_count": 20,
      "outputs": [
        {
          "output_type": "stream",
          "name": "stdout",
          "text": [
            "測試 13\n",
            "kernel = linear, C = 100\n",
            "SVM Model Performance:\n",
            "Accuracy: 0.9003\n",
            "Precision: 0.7854\n",
            "Recall: 0.5260\n",
            "F1 Score: 0.6300\n",
            "-----------------------\n",
            "Confusion Matrix:\n",
            "[[1652   47]\n",
            " [ 155  172]]\n",
            "-----------------------\n",
            "True Positive: 172\n",
            "False Positive: 47\n",
            "False Negative: 155\n",
            "True Negative: 1652\n"
          ]
        }
      ]
    },
    {
      "cell_type": "code",
      "source": [
        "print(f'測試 {test + 1}')\n",
        "test += 1\n",
        "svm_kernel = 'rbf'\n",
        "svm_c = 100\n",
        "print(f'kernel = {svm_kernel}, C = {svm_c}')\n",
        "svm_fun(svm_kernel, svm_c)"
      ],
      "metadata": {
        "colab": {
          "base_uri": "https://localhost:8080/"
        },
        "outputId": "dcc164dd-1c20-4571-c863-b9ea8438dfff",
        "id": "sguId7fpM0Fp"
      },
      "execution_count": 21,
      "outputs": [
        {
          "output_type": "stream",
          "name": "stdout",
          "text": [
            "測試 14\n",
            "kernel = rbf, C = 100\n",
            "SVM Model Performance:\n",
            "Accuracy: 0.9136\n",
            "Precision: 0.8140\n",
            "Recall: 0.6024\n",
            "F1 Score: 0.6924\n",
            "-----------------------\n",
            "Confusion Matrix:\n",
            "[[1654   45]\n",
            " [ 130  197]]\n",
            "-----------------------\n",
            "True Positive: 197\n",
            "False Positive: 45\n",
            "False Negative: 130\n",
            "True Negative: 1654\n"
          ]
        }
      ]
    },
    {
      "cell_type": "code",
      "source": [
        "print(f'測試 {test + 1}')\n",
        "test += 1\n",
        "svm_kernel = 'poly'\n",
        "svm_c = 100\n",
        "print(f'kernel = {svm_kernel}, C = {svm_c}')\n",
        "svm_fun(svm_kernel, svm_c)"
      ],
      "metadata": {
        "colab": {
          "base_uri": "https://localhost:8080/"
        },
        "id": "gDccwAPfM0Fp",
        "outputId": "52d7f875-4ea9-473e-a107-02d2dab13c0e"
      },
      "execution_count": 22,
      "outputs": [
        {
          "output_type": "stream",
          "name": "stdout",
          "text": [
            "測試 15\n",
            "kernel = poly, C = 100\n",
            "SVM Model Performance:\n",
            "Accuracy: 0.9146\n",
            "Precision: 0.8008\n",
            "Recall: 0.6269\n",
            "F1 Score: 0.7033\n",
            "-----------------------\n",
            "Confusion Matrix:\n",
            "[[1648   51]\n",
            " [ 122  205]]\n",
            "-----------------------\n",
            "True Positive: 205\n",
            "False Positive: 51\n",
            "False Negative: 122\n",
            "True Negative: 1648\n"
          ]
        }
      ]
    },
    {
      "cell_type": "code",
      "source": [
        "print(f'測試 {test + 1}')\n",
        "test += 1\n",
        "svm_kernel = 'sigmoid'\n",
        "svm_c = 100\n",
        "print(f'kernel = {svm_kernel}, C = {svm_c}')\n",
        "svm_fun(svm_kernel, svm_c)"
      ],
      "metadata": {
        "colab": {
          "base_uri": "https://localhost:8080/"
        },
        "id": "tQT4301QM0Fp",
        "outputId": "42dc4da8-350e-4930-a75d-5d3224d9e553"
      },
      "execution_count": 23,
      "outputs": [
        {
          "output_type": "stream",
          "name": "stdout",
          "text": [
            "測試 16\n",
            "kernel = sigmoid, C = 100\n",
            "SVM Model Performance:\n",
            "Accuracy: 0.7399\n",
            "Precision: 0.2006\n",
            "Recall: 0.2049\n",
            "F1 Score: 0.2027\n",
            "-----------------------\n",
            "Confusion Matrix:\n",
            "[[1432  267]\n",
            " [ 260   67]]\n",
            "-----------------------\n",
            "True Positive: 67\n",
            "False Positive: 267\n",
            "False Negative: 260\n",
            "True Negative: 1432\n"
          ]
        }
      ]
    },
    {
      "cell_type": "markdown",
      "source": [
        "## 接下來\n",
        "- 112機器學習期末報告_part6_Voting classifier\n",
        "- part 6 : https://colab.research.google.com/drive/18Lc74nzb74ZVEgIJ2-n-1y4eM4gV2ASl#scrollTo=4ARuZiQ32ypO"
      ],
      "metadata": {
        "id": "GKZ-6UFJzMk2"
      }
    }
  ]
}