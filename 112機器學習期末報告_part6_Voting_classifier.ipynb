{
  "nbformat": 4,
  "nbformat_minor": 0,
  "metadata": {
    "colab": {
      "provenance": []
    },
    "kernelspec": {
      "name": "python3",
      "display_name": "Python 3"
    },
    "language_info": {
      "name": "python"
    }
  },
  "cells": [
    {
      "cell_type": "code",
      "execution_count": 1,
      "metadata": {
        "id": "4ARuZiQ32ypO"
      },
      "outputs": [],
      "source": [
        "# 112機器學習期末報告_part6_Voting classifier\n",
        "# 2023/12/15\n",
        "# 7111029062 陳思蓓"
      ]
    },
    {
      "cell_type": "markdown",
      "source": [
        "### 模型5 - Voting classifier\n",
        "- based on Logistic Regression, Bernoulli NB, Gaussian NB, SVM\n",
        "- 讀取檔案 processed_data.csv"
      ],
      "metadata": {
        "id": "JeOMwpIY37XC"
      }
    },
    {
      "cell_type": "code",
      "source": [
        "import pandas as pd"
      ],
      "metadata": {
        "id": "y-AZi4GU4ENY"
      },
      "execution_count": 2,
      "outputs": []
    },
    {
      "cell_type": "code",
      "source": [
        "data = pd.read_csv('processed_data.csv', delimiter=\",\", header='infer')\n",
        "data.info()"
      ],
      "metadata": {
        "colab": {
          "base_uri": "https://localhost:8080/"
        },
        "id": "yDtmaLf_3rP7",
        "outputId": "337a4800-6844-4f6e-ac58-916f5d63b8ed"
      },
      "execution_count": 3,
      "outputs": [
        {
          "output_type": "stream",
          "name": "stdout",
          "text": [
            "<class 'pandas.core.frame.DataFrame'>\n",
            "RangeIndex: 10127 entries, 0 to 10126\n",
            "Data columns (total 20 columns):\n",
            " #   Column                    Non-Null Count  Dtype  \n",
            "---  ------                    --------------  -----  \n",
            " 0   Attrition_Flag            10127 non-null  int64  \n",
            " 1   Customer_Age              10127 non-null  float64\n",
            " 2   Gender                    10127 non-null  int64  \n",
            " 3   Dependent_count           10127 non-null  float64\n",
            " 4   Education_Level           10127 non-null  int64  \n",
            " 5   Marital_Status            10127 non-null  int64  \n",
            " 6   Income_Category           10127 non-null  int64  \n",
            " 7   Card_Category             10127 non-null  int64  \n",
            " 8   Months_on_book            10127 non-null  float64\n",
            " 9   Total_Relationship_Count  10127 non-null  float64\n",
            " 10  Months_Inactive_12_mon    10127 non-null  float64\n",
            " 11  Contacts_Count_12_mon     10127 non-null  float64\n",
            " 12  Credit_Limit              10127 non-null  float64\n",
            " 13  Total_Revolving_Bal       10127 non-null  float64\n",
            " 14  Avg_Open_To_Buy           10127 non-null  float64\n",
            " 15  Total_Amt_Chng_Q4_Q1      10127 non-null  float64\n",
            " 16  Total_Trans_Amt           10127 non-null  float64\n",
            " 17  Total_Trans_Ct            10127 non-null  float64\n",
            " 18  Total_Ct_Chng_Q4_Q1       10127 non-null  float64\n",
            " 19  Avg_Utilization_Ratio     10127 non-null  float64\n",
            "dtypes: float64(14), int64(6)\n",
            "memory usage: 1.5 MB\n"
          ]
        }
      ]
    },
    {
      "cell_type": "markdown",
      "source": [
        "混淆矩陣\n",
        "\n",
        "- [[True Negative (TN), False Positive (FP)],\n",
        "- [False Negative (FN), True Positive (TP)]]"
      ],
      "metadata": {
        "id": "kIxo0kmnOeGk"
      }
    },
    {
      "cell_type": "code",
      "source": [
        "from sklearn.metrics import confusion_matrix\n",
        "def confusion_matrix_fun(y_test, y_pred):\n",
        "    conf_matrix = confusion_matrix(y_test, y_pred)\n",
        "\n",
        "    # 顯示調整後的混淆矩陣\n",
        "    print('Confusion Matrix:')\n",
        "    print(conf_matrix)\n",
        "    print('-----------------------')\n",
        "    print(f'True Positive: {conf_matrix[1, 1]}')\n",
        "    print(f'False Positive: {conf_matrix[0, 1]}')\n",
        "    print(f'False Negative: {conf_matrix[1, 0]}')\n",
        "    print(f'True Negative: {conf_matrix[0, 0]}')"
      ],
      "metadata": {
        "id": "KvXVnX0JOeGl"
      },
      "execution_count": 4,
      "outputs": []
    },
    {
      "cell_type": "code",
      "source": [
        "from sklearn.model_selection import train_test_split\n",
        "from sklearn.metrics import accuracy_score, recall_score, precision_score, f1_score\n",
        "\n",
        "# 特徵和標籤\n",
        "X = data.drop('Attrition_Flag', axis=1)\n",
        "y = data['Attrition_Flag']\n",
        "\n",
        "# 分割資料集\n",
        "X_train, X_test, y_train, y_test = train_test_split(X, y, test_size=0.2, random_state=42)"
      ],
      "metadata": {
        "id": "0zLlIqWy4JQ8"
      },
      "execution_count": 5,
      "outputs": []
    },
    {
      "cell_type": "code",
      "source": [
        "from sklearn.ensemble import VotingClassifier\n",
        "from sklearn.linear_model import LogisticRegression\n",
        "from sklearn.naive_bayes import BernoulliNB, GaussianNB\n",
        "from sklearn.svm import SVC\n",
        "\n",
        "def ensemble_fun(svm_kernel, voting, weight):\n",
        "    # 定義基本分類器\n",
        "    logreg_clf = LogisticRegression(max_iter=1000)\n",
        "    bernoulli_nb_clf = BernoulliNB()\n",
        "    gaussian_nb_clf = GaussianNB()\n",
        "    svm_clf = SVC(probability=True, kernel=svm_kernel)\n",
        "\n",
        "    # 創建 Voting Classifier\n",
        "    voting_clf = VotingClassifier(\n",
        "        estimators=[('logreg', logreg_clf), ('bernoulli_nb', bernoulli_nb_clf),\n",
        "                    ('gaussian_nb', gaussian_nb_clf), ('svm', svm_clf)],\n",
        "        voting=voting,  # hard, soft\n",
        "        weights=weight  # 設定權重\n",
        "    )\n",
        "\n",
        "    # 訓練 Voting Classifier\n",
        "    voting_clf.fit(X_train, y_train)\n",
        "\n",
        "    # 在測試集上進行預測\n",
        "    y_pred_voting = voting_clf.predict(X_test)\n",
        "\n",
        "    # 評估模型性能\n",
        "    accuracy_voting = accuracy_score(y_test, y_pred_voting)\n",
        "    precision_voting = precision_score(y_test, y_pred_voting)\n",
        "    recall_voting = recall_score(y_test, y_pred_voting)\n",
        "    f1_voting = f1_score(y_test, y_pred_voting)\n",
        "\n",
        "    # 印出評估結果\n",
        "    print('Voting Classifier Performance:')\n",
        "    print(f'Accuracy: {accuracy_voting:.4f}')\n",
        "    print(f'Precision: {precision_voting:.4f}')\n",
        "    print(f'Recall: {recall_voting:.4f}')\n",
        "    print(f'F1 Score: {f1_voting:.4f}')\n",
        "    print('-----------------------')\n",
        "    confusion_matrix_fun(y_test, y_pred_voting)"
      ],
      "metadata": {
        "id": "aa4NNDyT4RdW"
      },
      "execution_count": 6,
      "outputs": []
    },
    {
      "cell_type": "code",
      "source": [
        "test = 0"
      ],
      "metadata": {
        "id": "-250SxYPQ8OJ"
      },
      "execution_count": 7,
      "outputs": []
    },
    {
      "cell_type": "code",
      "source": [
        "print(f'測試 {test + 1}')\n",
        "test += 1\n",
        "svm_kernel = 'linear' # linear, rbf, poly, sigmoid\n",
        "voting = 'hard' # hard, soft\n",
        "weight = [1, 1, 1, 1] # LR, Bernoulli, Gaussian, SVM\n",
        "print(f'kernel = {svm_kernel}, voting = {voting}, weight = {weight}')\n",
        "ensemble_fun(svm_kernel, voting, weight)"
      ],
      "metadata": {
        "colab": {
          "base_uri": "https://localhost:8080/"
        },
        "id": "EfQMimnpSKJL",
        "outputId": "dad4a279-7182-4392-de30-4858ec1e5b31"
      },
      "execution_count": 8,
      "outputs": [
        {
          "output_type": "stream",
          "name": "stdout",
          "text": [
            "測試 1\n",
            "kernel = linear, voting = hard, weight = [1, 1, 1, 1]\n",
            "Voting Classifier Performance:\n",
            "Accuracy: 0.8929\n",
            "Precision: 0.7778\n",
            "Recall: 0.4709\n",
            "F1 Score: 0.5867\n",
            "-----------------------\n",
            "Confusion Matrix:\n",
            "[[1655   44]\n",
            " [ 173  154]]\n",
            "-----------------------\n",
            "True Positive: 154\n",
            "False Positive: 44\n",
            "False Negative: 173\n",
            "True Negative: 1655\n"
          ]
        }
      ]
    },
    {
      "cell_type": "code",
      "source": [
        "print(f'測試 {test + 1}')\n",
        "test += 1\n",
        "svm_kernel = 'rbf' # linear, rbf, poly, sigmoid\n",
        "voting = 'hard' # hard, soft\n",
        "weight = [1, 1, 1, 1] # LR, Bernoulli, Gaussian, SVM\n",
        "print(f'kernel = {svm_kernel}, voting = {voting}, weight = {weight}')\n",
        "ensemble_fun(svm_kernel, voting, weight)"
      ],
      "metadata": {
        "colab": {
          "base_uri": "https://localhost:8080/"
        },
        "id": "sIxKSJZ8Q3qe",
        "outputId": "847062a5-38d9-4b2f-8622-450c7b902e63"
      },
      "execution_count": 9,
      "outputs": [
        {
          "output_type": "stream",
          "name": "stdout",
          "text": [
            "測試 2\n",
            "kernel = rbf, voting = hard, weight = [1, 1, 1, 1]\n",
            "Voting Classifier Performance:\n",
            "Accuracy: 0.8924\n",
            "Precision: 0.8385\n",
            "Recall: 0.4128\n",
            "F1 Score: 0.5533\n",
            "-----------------------\n",
            "Confusion Matrix:\n",
            "[[1673   26]\n",
            " [ 192  135]]\n",
            "-----------------------\n",
            "True Positive: 135\n",
            "False Positive: 26\n",
            "False Negative: 192\n",
            "True Negative: 1673\n"
          ]
        }
      ]
    },
    {
      "cell_type": "code",
      "source": [
        "print(f'測試 {test + 1}')\n",
        "test += 1\n",
        "svm_kernel = 'poly' # linear, rbf, poly, sigmoid\n",
        "voting = 'hard' # hard, soft\n",
        "weight = [1, 1, 1, 1] # LR, Bernoulli, Gaussian, SVM\n",
        "print(f'kernel = {svm_kernel}, voting = {voting}, weight = {weight}')\n",
        "ensemble_fun(svm_kernel, voting, weight)"
      ],
      "metadata": {
        "colab": {
          "base_uri": "https://localhost:8080/"
        },
        "id": "zTcnJlBjSgYF",
        "outputId": "a1e7ac70-bb50-436f-e128-c87e7d0a087e"
      },
      "execution_count": 10,
      "outputs": [
        {
          "output_type": "stream",
          "name": "stdout",
          "text": [
            "測試 3\n",
            "kernel = poly, voting = hard, weight = [1, 1, 1, 1]\n",
            "Voting Classifier Performance:\n",
            "Accuracy: 0.8894\n",
            "Precision: 0.8160\n",
            "Recall: 0.4067\n",
            "F1 Score: 0.5429\n",
            "-----------------------\n",
            "Confusion Matrix:\n",
            "[[1669   30]\n",
            " [ 194  133]]\n",
            "-----------------------\n",
            "True Positive: 133\n",
            "False Positive: 30\n",
            "False Negative: 194\n",
            "True Negative: 1669\n"
          ]
        }
      ]
    },
    {
      "cell_type": "code",
      "source": [
        "print(f'測試 {test + 1}')\n",
        "test += 1\n",
        "svm_kernel = 'sigmoid' # linear, rbf, poly, sigmoid\n",
        "voting = 'hard' # hard, soft\n",
        "weight = [1, 1, 1, 1] # LR, Bernoulli, Gaussian, SVM\n",
        "print(f'kernel = {svm_kernel}, voting = {voting}, weight = {weight}')\n",
        "ensemble_fun(svm_kernel, voting, weight)"
      ],
      "metadata": {
        "colab": {
          "base_uri": "https://localhost:8080/"
        },
        "id": "fdfURZX7SiNy",
        "outputId": "5a5ef5d1-c960-4889-af82-eaa7de5a26fa"
      },
      "execution_count": 11,
      "outputs": [
        {
          "output_type": "stream",
          "name": "stdout",
          "text": [
            "測試 4\n",
            "kernel = sigmoid, voting = hard, weight = [1, 1, 1, 1]\n",
            "Voting Classifier Performance:\n",
            "Accuracy: 0.8806\n",
            "Precision: 0.7891\n",
            "Recall: 0.3547\n",
            "F1 Score: 0.4895\n",
            "-----------------------\n",
            "Confusion Matrix:\n",
            "[[1668   31]\n",
            " [ 211  116]]\n",
            "-----------------------\n",
            "True Positive: 116\n",
            "False Positive: 31\n",
            "False Negative: 211\n",
            "True Negative: 1668\n"
          ]
        }
      ]
    },
    {
      "cell_type": "code",
      "source": [
        "print(f'測試 {test + 1}')\n",
        "test += 1\n",
        "svm_kernel = 'linear' # linear, rbf, poly, sigmoid\n",
        "voting = 'soft' # hard, soft\n",
        "weight = [1, 1, 1, 1] # LR, Bernoulli, Gaussian, SVM\n",
        "print(f'kernel = {svm_kernel}, voting = {voting}, weight = {weight}')\n",
        "ensemble_fun(svm_kernel, voting, weight)"
      ],
      "metadata": {
        "colab": {
          "base_uri": "https://localhost:8080/"
        },
        "outputId": "50f0134f-d213-4bb8-cf2d-6b7590e53c99",
        "id": "tom_mrOxTBC7"
      },
      "execution_count": 12,
      "outputs": [
        {
          "output_type": "stream",
          "name": "stdout",
          "text": [
            "測試 5\n",
            "kernel = linear, voting = soft, weight = [1, 1, 1, 1]\n",
            "Voting Classifier Performance:\n",
            "Accuracy: 0.8978\n",
            "Precision: 0.7913\n",
            "Recall: 0.4985\n",
            "F1 Score: 0.6116\n",
            "-----------------------\n",
            "Confusion Matrix:\n",
            "[[1656   43]\n",
            " [ 164  163]]\n",
            "-----------------------\n",
            "True Positive: 163\n",
            "False Positive: 43\n",
            "False Negative: 164\n",
            "True Negative: 1656\n"
          ]
        }
      ]
    },
    {
      "cell_type": "code",
      "source": [
        "print(f'測試 {test + 1}')\n",
        "test += 1\n",
        "svm_kernel = 'rbf' # linear, rbf, poly, sigmoid\n",
        "voting = 'soft' # hard, soft\n",
        "weight = [1, 1, 1, 1] # LR, Bernoulli, Gaussian, SVM\n",
        "print(f'kernel = {svm_kernel}, voting = {voting}, weight = {weight}')\n",
        "ensemble_fun(svm_kernel, voting, weight)"
      ],
      "metadata": {
        "colab": {
          "base_uri": "https://localhost:8080/"
        },
        "outputId": "6f0ea59a-052b-4a06-b4fd-1c7acab3c779",
        "id": "4zOQiyr7TBDI"
      },
      "execution_count": 13,
      "outputs": [
        {
          "output_type": "stream",
          "name": "stdout",
          "text": [
            "測試 6\n",
            "kernel = rbf, voting = soft, weight = [1, 1, 1, 1]\n",
            "Voting Classifier Performance:\n",
            "Accuracy: 0.8998\n",
            "Precision: 0.8010\n",
            "Recall: 0.5046\n",
            "F1 Score: 0.6191\n",
            "-----------------------\n",
            "Confusion Matrix:\n",
            "[[1658   41]\n",
            " [ 162  165]]\n",
            "-----------------------\n",
            "True Positive: 165\n",
            "False Positive: 41\n",
            "False Negative: 162\n",
            "True Negative: 1658\n"
          ]
        }
      ]
    },
    {
      "cell_type": "code",
      "source": [
        "print(f'測試 {test + 1}')\n",
        "test += 1\n",
        "svm_kernel = 'poly' # linear, rbf, poly, sigmoid\n",
        "voting = 'soft' # hard, soft\n",
        "weight = [1, 1, 1, 1] # LR, Bernoulli, Gaussian, SVM\n",
        "print(f'kernel = {svm_kernel}, voting = {voting}, weight = {weight}')\n",
        "ensemble_fun(svm_kernel, voting, weight)"
      ],
      "metadata": {
        "colab": {
          "base_uri": "https://localhost:8080/"
        },
        "outputId": "69491ea3-5f35-458c-f599-6a0d65432fca",
        "id": "oP5OJcnlTBDI"
      },
      "execution_count": 14,
      "outputs": [
        {
          "output_type": "stream",
          "name": "stdout",
          "text": [
            "測試 7\n",
            "kernel = poly, voting = soft, weight = [1, 1, 1, 1]\n",
            "Voting Classifier Performance:\n",
            "Accuracy: 0.8978\n",
            "Precision: 0.7885\n",
            "Recall: 0.5015\n",
            "F1 Score: 0.6131\n",
            "-----------------------\n",
            "Confusion Matrix:\n",
            "[[1655   44]\n",
            " [ 163  164]]\n",
            "-----------------------\n",
            "True Positive: 164\n",
            "False Positive: 44\n",
            "False Negative: 163\n",
            "True Negative: 1655\n"
          ]
        }
      ]
    },
    {
      "cell_type": "code",
      "source": [
        "print(f'測試 {test + 1}')\n",
        "test += 1\n",
        "svm_kernel = 'sigmoid' # linear, rbf, poly, sigmoid\n",
        "voting = 'soft' # hard, soft\n",
        "weight = [1, 1, 1, 1] # LR, Bernoulli, Gaussian, SVM\n",
        "print(f'kernel = {svm_kernel}, voting = {voting}, weight = {weight}')\n",
        "ensemble_fun(svm_kernel, voting, weight)"
      ],
      "metadata": {
        "colab": {
          "base_uri": "https://localhost:8080/"
        },
        "outputId": "997d1a9f-a4e6-46c6-8a0e-95b50b5847e5",
        "id": "469YzTPfTBDI"
      },
      "execution_count": 15,
      "outputs": [
        {
          "output_type": "stream",
          "name": "stdout",
          "text": [
            "測試 8\n",
            "kernel = sigmoid, voting = soft, weight = [1, 1, 1, 1]\n",
            "Voting Classifier Performance:\n",
            "Accuracy: 0.8880\n",
            "Precision: 0.8521\n",
            "Recall: 0.3700\n",
            "F1 Score: 0.5160\n",
            "-----------------------\n",
            "Confusion Matrix:\n",
            "[[1678   21]\n",
            " [ 206  121]]\n",
            "-----------------------\n",
            "True Positive: 121\n",
            "False Positive: 21\n",
            "False Negative: 206\n",
            "True Negative: 1678\n"
          ]
        }
      ]
    },
    {
      "cell_type": "code",
      "source": [
        "print(f'測試 {test + 1}')\n",
        "test += 1\n",
        "svm_kernel = 'linear' # linear, rbf, poly, sigmoid\n",
        "voting = 'soft' # hard, soft\n",
        "weight = [2, 1, 1, 1] # LR, Bernoulli, Gaussian, SVM\n",
        "print(f'kernel = {svm_kernel}, voting = {voting}, weight = {weight}')\n",
        "ensemble_fun(svm_kernel, voting, weight)"
      ],
      "metadata": {
        "colab": {
          "base_uri": "https://localhost:8080/"
        },
        "outputId": "b58c5ef1-68d9-4102-8595-7f8de17e75c4",
        "id": "w0JNPN-qTqwZ"
      },
      "execution_count": 16,
      "outputs": [
        {
          "output_type": "stream",
          "name": "stdout",
          "text": [
            "測試 9\n",
            "kernel = linear, voting = soft, weight = [2, 1, 1, 1]\n",
            "Voting Classifier Performance:\n",
            "Accuracy: 0.8973\n",
            "Precision: 0.7820\n",
            "Recall: 0.5046\n",
            "F1 Score: 0.6134\n",
            "-----------------------\n",
            "Confusion Matrix:\n",
            "[[1653   46]\n",
            " [ 162  165]]\n",
            "-----------------------\n",
            "True Positive: 165\n",
            "False Positive: 46\n",
            "False Negative: 162\n",
            "True Negative: 1653\n"
          ]
        }
      ]
    },
    {
      "cell_type": "code",
      "source": [
        "print(f'測試 {test + 1}')\n",
        "test += 1\n",
        "svm_kernel = 'rbf' # linear, rbf, poly, sigmoid\n",
        "voting = 'soft' # hard, soft\n",
        "weight = [2, 1, 1, 1] # LR, Bernoulli, Gaussian, SVM\n",
        "print(f'kernel = {svm_kernel}, voting = {voting}, weight = {weight}')\n",
        "ensemble_fun(svm_kernel, voting, weight)"
      ],
      "metadata": {
        "colab": {
          "base_uri": "https://localhost:8080/"
        },
        "outputId": "b5d523dc-deeb-4fe5-90ae-9d8fe0895fb4",
        "id": "DO3xOiGLTqwa"
      },
      "execution_count": 17,
      "outputs": [
        {
          "output_type": "stream",
          "name": "stdout",
          "text": [
            "測試 10\n",
            "kernel = rbf, voting = soft, weight = [2, 1, 1, 1]\n",
            "Voting Classifier Performance:\n",
            "Accuracy: 0.8988\n",
            "Precision: 0.7961\n",
            "Recall: 0.5015\n",
            "F1 Score: 0.6154\n",
            "-----------------------\n",
            "Confusion Matrix:\n",
            "[[1657   42]\n",
            " [ 163  164]]\n",
            "-----------------------\n",
            "True Positive: 164\n",
            "False Positive: 42\n",
            "False Negative: 163\n",
            "True Negative: 1657\n"
          ]
        }
      ]
    },
    {
      "cell_type": "code",
      "source": [
        "print(f'測試 {test + 1}')\n",
        "test += 1\n",
        "svm_kernel = 'poly' # linear, rbf, poly, sigmoid\n",
        "voting = 'soft' # hard, soft\n",
        "weight = [2, 1, 1, 1] # LR, Bernoulli, Gaussian, SVM\n",
        "print(f'kernel = {svm_kernel}, voting = {voting}, weight = {weight}')\n",
        "ensemble_fun(svm_kernel, voting, weight)"
      ],
      "metadata": {
        "colab": {
          "base_uri": "https://localhost:8080/"
        },
        "outputId": "49c1a10c-6849-4f92-d06c-38969de39ccc",
        "id": "oYKzfPpNTqwb"
      },
      "execution_count": 18,
      "outputs": [
        {
          "output_type": "stream",
          "name": "stdout",
          "text": [
            "測試 11\n",
            "kernel = poly, voting = soft, weight = [2, 1, 1, 1]\n",
            "Voting Classifier Performance:\n",
            "Accuracy: 0.8973\n",
            "Precision: 0.7847\n",
            "Recall: 0.5015\n",
            "F1 Score: 0.6119\n",
            "-----------------------\n",
            "Confusion Matrix:\n",
            "[[1654   45]\n",
            " [ 163  164]]\n",
            "-----------------------\n",
            "True Positive: 164\n",
            "False Positive: 45\n",
            "False Negative: 163\n",
            "True Negative: 1654\n"
          ]
        }
      ]
    },
    {
      "cell_type": "code",
      "source": [
        "print(f'測試 {test + 1}')\n",
        "test += 1\n",
        "svm_kernel = 'linear' # linear, rbf, poly, sigmoid\n",
        "voting = 'soft' # hard, soft\n",
        "weight = [1, 2, 1, 1] # LR, Bernoulli, Gaussian, SVM\n",
        "print(f'kernel = {svm_kernel}, voting = {voting}, weight = {weight}')\n",
        "ensemble_fun(svm_kernel, voting, weight)"
      ],
      "metadata": {
        "colab": {
          "base_uri": "https://localhost:8080/"
        },
        "outputId": "4c547788-bcee-4e4f-a0a1-506cdc6c4b58",
        "id": "WN9pHV6BT2mm"
      },
      "execution_count": 19,
      "outputs": [
        {
          "output_type": "stream",
          "name": "stdout",
          "text": [
            "測試 12\n",
            "kernel = linear, voting = soft, weight = [1, 2, 1, 1]\n",
            "Voting Classifier Performance:\n",
            "Accuracy: 0.8978\n",
            "Precision: 0.8093\n",
            "Recall: 0.4801\n",
            "F1 Score: 0.6027\n",
            "-----------------------\n",
            "Confusion Matrix:\n",
            "[[1662   37]\n",
            " [ 170  157]]\n",
            "-----------------------\n",
            "True Positive: 157\n",
            "False Positive: 37\n",
            "False Negative: 170\n",
            "True Negative: 1662\n"
          ]
        }
      ]
    },
    {
      "cell_type": "code",
      "source": [
        "print(f'測試 {test + 1}')\n",
        "test += 1\n",
        "svm_kernel = 'rbf' # linear, rbf, poly, sigmoid\n",
        "voting = 'soft' # hard, soft\n",
        "weight = [1, 2, 1, 1] # LR, Bernoulli, Gaussian, SVM\n",
        "print(f'kernel = {svm_kernel}, voting = {voting}, weight = {weight}')\n",
        "ensemble_fun(svm_kernel, voting, weight)"
      ],
      "metadata": {
        "colab": {
          "base_uri": "https://localhost:8080/"
        },
        "outputId": "6f2126ac-b4e6-49d5-c636-f890bc2c54ca",
        "id": "3sYC4PbrT2mn"
      },
      "execution_count": 20,
      "outputs": [
        {
          "output_type": "stream",
          "name": "stdout",
          "text": [
            "測試 13\n",
            "kernel = rbf, voting = soft, weight = [1, 2, 1, 1]\n",
            "Voting Classifier Performance:\n",
            "Accuracy: 0.8944\n",
            "Precision: 0.7989\n",
            "Recall: 0.4618\n",
            "F1 Score: 0.5853\n",
            "-----------------------\n",
            "Confusion Matrix:\n",
            "[[1661   38]\n",
            " [ 176  151]]\n",
            "-----------------------\n",
            "True Positive: 151\n",
            "False Positive: 38\n",
            "False Negative: 176\n",
            "True Negative: 1661\n"
          ]
        }
      ]
    },
    {
      "cell_type": "code",
      "source": [
        "print(f'測試 {test + 1}')\n",
        "test += 1\n",
        "svm_kernel = 'poly' # linear, rbf, poly, sigmoid\n",
        "voting = 'soft' # hard, soft\n",
        "weight = [1, 2, 1, 1] # LR, Bernoulli, Gaussian, SVM\n",
        "print(f'kernel = {svm_kernel}, voting = {voting}, weight = {weight}')\n",
        "ensemble_fun(svm_kernel, voting, weight)"
      ],
      "metadata": {
        "colab": {
          "base_uri": "https://localhost:8080/"
        },
        "outputId": "cee10408-b3ad-4042-cbe5-49552469869f",
        "id": "GvboBtf9T2mo"
      },
      "execution_count": 21,
      "outputs": [
        {
          "output_type": "stream",
          "name": "stdout",
          "text": [
            "測試 14\n",
            "kernel = poly, voting = soft, weight = [1, 2, 1, 1]\n",
            "Voting Classifier Performance:\n",
            "Accuracy: 0.8954\n",
            "Precision: 0.8010\n",
            "Recall: 0.4679\n",
            "F1 Score: 0.5907\n",
            "-----------------------\n",
            "Confusion Matrix:\n",
            "[[1661   38]\n",
            " [ 174  153]]\n",
            "-----------------------\n",
            "True Positive: 153\n",
            "False Positive: 38\n",
            "False Negative: 174\n",
            "True Negative: 1661\n"
          ]
        }
      ]
    },
    {
      "cell_type": "code",
      "source": [
        "print(f'測試 {test + 1}')\n",
        "test += 1\n",
        "svm_kernel = 'linear' # linear, rbf, poly, sigmoid\n",
        "voting = 'soft' # hard, soft\n",
        "weight = [1, 1, 2, 1] # LR, Bernoulli, Gaussian, SVM\n",
        "print(f'kernel = {svm_kernel}, voting = {voting}, weight = {weight}')\n",
        "ensemble_fun(svm_kernel, voting, weight)"
      ],
      "metadata": {
        "colab": {
          "base_uri": "https://localhost:8080/"
        },
        "outputId": "4611608f-1122-468b-ce12-9fb252d135e6",
        "id": "QBGKOxIlT9Lv"
      },
      "execution_count": 22,
      "outputs": [
        {
          "output_type": "stream",
          "name": "stdout",
          "text": [
            "測試 15\n",
            "kernel = linear, voting = soft, weight = [1, 1, 2, 1]\n",
            "Voting Classifier Performance:\n",
            "Accuracy: 0.8954\n",
            "Precision: 0.7533\n",
            "Recall: 0.5229\n",
            "F1 Score: 0.6173\n",
            "-----------------------\n",
            "Confusion Matrix:\n",
            "[[1643   56]\n",
            " [ 156  171]]\n",
            "-----------------------\n",
            "True Positive: 171\n",
            "False Positive: 56\n",
            "False Negative: 156\n",
            "True Negative: 1643\n"
          ]
        }
      ]
    },
    {
      "cell_type": "code",
      "source": [
        "print(f'測試 {test + 1}')\n",
        "test += 1\n",
        "svm_kernel = 'rbf' # linear, rbf, poly, sigmoid\n",
        "voting = 'soft' # hard, soft\n",
        "weight = [1, 1, 2, 1] # LR, Bernoulli, Gaussian, SVM\n",
        "print(f'kernel = {svm_kernel}, voting = {voting}, weight = {weight}')\n",
        "ensemble_fun(svm_kernel, voting, weight)"
      ],
      "metadata": {
        "colab": {
          "base_uri": "https://localhost:8080/"
        },
        "outputId": "6041750a-b078-4a75-b040-d8519a97dc6a",
        "id": "2-5L5bXmT9Lw"
      },
      "execution_count": 23,
      "outputs": [
        {
          "output_type": "stream",
          "name": "stdout",
          "text": [
            "測試 16\n",
            "kernel = rbf, voting = soft, weight = [1, 1, 2, 1]\n",
            "Voting Classifier Performance:\n",
            "Accuracy: 0.8944\n",
            "Precision: 0.7557\n",
            "Recall: 0.5107\n",
            "F1 Score: 0.6095\n",
            "-----------------------\n",
            "Confusion Matrix:\n",
            "[[1645   54]\n",
            " [ 160  167]]\n",
            "-----------------------\n",
            "True Positive: 167\n",
            "False Positive: 54\n",
            "False Negative: 160\n",
            "True Negative: 1645\n"
          ]
        }
      ]
    },
    {
      "cell_type": "code",
      "source": [
        "print(f'測試 {test + 1}')\n",
        "test += 1\n",
        "svm_kernel = 'poly' # linear, rbf, poly, sigmoid\n",
        "voting = 'soft' # hard, soft\n",
        "weight = [1, 1, 2, 1] # LR, Bernoulli, Gaussian, SVM\n",
        "print(f'kernel = {svm_kernel}, voting = {voting}, weight = {weight}')\n",
        "ensemble_fun(svm_kernel, voting, weight)"
      ],
      "metadata": {
        "colab": {
          "base_uri": "https://localhost:8080/"
        },
        "outputId": "21235202-9641-498b-c508-254ea4f62d25",
        "id": "-sVEL5-OT9Lx"
      },
      "execution_count": 24,
      "outputs": [
        {
          "output_type": "stream",
          "name": "stdout",
          "text": [
            "測試 17\n",
            "kernel = poly, voting = soft, weight = [1, 1, 2, 1]\n",
            "Voting Classifier Performance:\n",
            "Accuracy: 0.8954\n",
            "Precision: 0.7556\n",
            "Recall: 0.5199\n",
            "F1 Score: 0.6159\n",
            "-----------------------\n",
            "Confusion Matrix:\n",
            "[[1644   55]\n",
            " [ 157  170]]\n",
            "-----------------------\n",
            "True Positive: 170\n",
            "False Positive: 55\n",
            "False Negative: 157\n",
            "True Negative: 1644\n"
          ]
        }
      ]
    },
    {
      "cell_type": "code",
      "source": [
        "print(f'測試 {test + 1}')\n",
        "test += 1\n",
        "svm_kernel = 'linear' # linear, rbf, poly, sigmoid\n",
        "voting = 'soft' # hard, soft\n",
        "weight = [1, 1, 1, 2] # LR, Bernoulli, Gaussian, SVM\n",
        "print(f'kernel = {svm_kernel}, voting = {voting}, weight = {weight}')\n",
        "ensemble_fun(svm_kernel, voting, weight)"
      ],
      "metadata": {
        "colab": {
          "base_uri": "https://localhost:8080/"
        },
        "outputId": "ba37da08-5861-4414-d966-a106ef90a4b5",
        "id": "LR2gC-I2UDeR"
      },
      "execution_count": 25,
      "outputs": [
        {
          "output_type": "stream",
          "name": "stdout",
          "text": [
            "測試 18\n",
            "kernel = linear, voting = soft, weight = [1, 1, 1, 2]\n",
            "Voting Classifier Performance:\n",
            "Accuracy: 0.8983\n",
            "Precision: 0.7867\n",
            "Recall: 0.5076\n",
            "F1 Score: 0.6171\n",
            "-----------------------\n",
            "Confusion Matrix:\n",
            "[[1654   45]\n",
            " [ 161  166]]\n",
            "-----------------------\n",
            "True Positive: 166\n",
            "False Positive: 45\n",
            "False Negative: 161\n",
            "True Negative: 1654\n"
          ]
        }
      ]
    },
    {
      "cell_type": "code",
      "source": [
        "print(f'測試 {test + 1}')\n",
        "test += 1\n",
        "svm_kernel = 'rbf' # linear, rbf, poly, sigmoid\n",
        "voting = 'soft' # hard, soft\n",
        "weight = [1, 1, 1, 2] # LR, Bernoulli, Gaussian, SVM\n",
        "print(f'kernel = {svm_kernel}, voting = {voting}, weight = {weight}')\n",
        "ensemble_fun(svm_kernel, voting, weight)"
      ],
      "metadata": {
        "colab": {
          "base_uri": "https://localhost:8080/"
        },
        "outputId": "e9114dfc-d188-40e9-c8b4-9530050c7004",
        "id": "QKSHGkUpUDeS"
      },
      "execution_count": 26,
      "outputs": [
        {
          "output_type": "stream",
          "name": "stdout",
          "text": [
            "測試 19\n",
            "kernel = rbf, voting = soft, weight = [1, 1, 1, 2]\n",
            "Voting Classifier Performance:\n",
            "Accuracy: 0.8993\n",
            "Precision: 0.7971\n",
            "Recall: 0.5046\n",
            "F1 Score: 0.6180\n",
            "-----------------------\n",
            "Confusion Matrix:\n",
            "[[1657   42]\n",
            " [ 162  165]]\n",
            "-----------------------\n",
            "True Positive: 165\n",
            "False Positive: 42\n",
            "False Negative: 162\n",
            "True Negative: 1657\n"
          ]
        }
      ]
    },
    {
      "cell_type": "code",
      "source": [
        "print(f'測試 {test + 1}')\n",
        "test += 1\n",
        "svm_kernel = 'poly' # linear, rbf, poly, sigmoid\n",
        "voting = 'soft' # hard, soft\n",
        "weight = [1, 1, 1, 2] # LR, Bernoulli, Gaussian, SVM\n",
        "print(f'kernel = {svm_kernel}, voting = {voting}, weight = {weight}')\n",
        "ensemble_fun(svm_kernel, voting, weight)"
      ],
      "metadata": {
        "colab": {
          "base_uri": "https://localhost:8080/"
        },
        "outputId": "9c878630-a9fe-4385-d04b-78b2d39902c1",
        "id": "SKIeQdTjUDeS"
      },
      "execution_count": 27,
      "outputs": [
        {
          "output_type": "stream",
          "name": "stdout",
          "text": [
            "測試 20\n",
            "kernel = poly, voting = soft, weight = [1, 1, 1, 2]\n",
            "Voting Classifier Performance:\n",
            "Accuracy: 0.8954\n",
            "Precision: 0.7778\n",
            "Recall: 0.4924\n",
            "F1 Score: 0.6030\n",
            "-----------------------\n",
            "Confusion Matrix:\n",
            "[[1653   46]\n",
            " [ 166  161]]\n",
            "-----------------------\n",
            "True Positive: 161\n",
            "False Positive: 46\n",
            "False Negative: 166\n",
            "True Negative: 1653\n"
          ]
        }
      ]
    },
    {
      "cell_type": "markdown",
      "source": [
        "## 接下來\n",
        "- 112機器學習期末報告_part7_Bagging classifier\n",
        "- part 7 : https://colab.research.google.com/drive/1BjH0kDM4h7eAEQzYgJx5I9tf43uJNHAg#scrollTo=JeOMwpIY37XC"
      ],
      "metadata": {
        "id": "GKZ-6UFJzMk2"
      }
    }
  ]
}